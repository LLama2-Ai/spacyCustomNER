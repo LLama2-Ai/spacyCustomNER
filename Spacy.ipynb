{
 "cells": [
  {
   "cell_type": "code",
   "execution_count": null,
   "metadata": {},
   "outputs": [],
   "source": [
    "! pip install spacy"
   ]
  },
  {
   "cell_type": "code",
   "execution_count": null,
   "metadata": {},
   "outputs": [],
   "source": [
    "! python -m spacy download en_core_web_sm\n"
   ]
  },
  {
   "cell_type": "code",
   "execution_count": 2,
   "metadata": {},
   "outputs": [],
   "source": [
    "import numpy as np\n",
    "import spacy\n",
    "import pandas as pd\n",
    "from spacy.tokens import DocBin\n",
    "import os\n",
    "db=DocBin()\n",
    "import random as r"
   ]
  },
  {
   "cell_type": "markdown",
   "metadata": {},
   "source": [
    "Train"
   ]
  },
  {
   "cell_type": "code",
   "execution_count": 2,
   "metadata": {},
   "outputs": [],
   "source": [
    "#email_templates=['''\n",
    "Hi name, name\n",
    "\n",
    "Please look in to below request and share the information. Thank you !\n",
    "\n",
    "\n",
    "Regards,\n",
    "name, PMP®, PMI-ACP®, ITILv3®, AZ900, AWS Certified Solution Architect-Associate\n",
    "IBM Certified Senior Project Manager\n",
    "Kyndryl Private Cloud IAAS- STaaS Team\n",
    "Email: name@kyndryl.com \n",
    "Phone: +91 9573745674\n",
    "kyndryl\n",
    "''','''\n",
    "From: name <name@kyndryl.com>\n",
    "Date: Tuesday, October 10, 2023 at 8:56 AM\n",
    "To: name <name@kyndryl.com>\n",
    "Cc: name <name@kyndryl.com>, name <name@kyndryl.com>, name <name@kyndryl.com>, name <name@kyndryl.com>\n",
    "Subject: Re: Blue id- MDG information required \n",
    "Hi name, \n",
    "We had connected the BlueID team with the MDG Kynsight team and data .(name and name can provide an update)\n",
    " \n",
    "For a long term direct integration with MDG , please engage with name. \n",
    " \n",
    "Thank you!\n",
    " \n",
    "name \n",
    "CDO Master Data Management\n",
    "Kyndryl\n",
    "name@kyndryl.com\n",
    "845-242-8821\n",
    "''','''\n",
    "From:\tname\n",
    "Sent:\tWednesday, November 8, 2023 3:04 PM\n",
    "To:\tname; name\n",
    "Cc:\tBarbora Fritzová\n",
    "Subject:\tRE: Missing NPS comments in CDH\n",
    "\n",
    "Follow Up Flag:\tFollow up\n",
    "Flag Status:\tFlagged\n",
    "\n",
    "Hello name,\n",
    "\n",
    "Have you please loaded below accounts to CDH? \n",
    "We have found also another one from May-June which isn´t in CDH.\n",
    "\n",
    "Medalia data - GB302D5P G&H Bankensoftware AG Survey  \n",
    "eligible date 23/05/23 RUN 9, Relationship 6\n",
    "\n",
    "Please insert manually in CDH for BAC000108D | G&H Bankensoftware AG-  GB302J6X,\n",
    "asap as we are soon closing the reporting period.\n",
    "\n",
    "Thank you for cooperation! \n",
    "With kind regards / Mit freundlichen grüßen\n",
    "\n",
    "name\n",
    "Germany Delivery Quality Focal Point \n",
    "CIC Czech Republic, Brno\n",
    "Email: name@kyndryl.com\n",
    "Webex: https://kyndryl.webex.com/meet/name\n",
    "www.kyndryl.com\n",
    " \n",
    "\n",
    "Kyndryl Client Center, s.r.o. \n",
    "Sídlo: Brno, Technická 2995/21, PS?: 616 00, I?: 26244535 Zapsaná v obchodním rejst?íku, vedeném Krajským soudem v Brn? \n",
    "(oddíl C, vložka 39922)\n",
    "\n",
    "Kyndryl Client Center, s.r.o. \n",
    "Registered address: Brno, Technicka 2995/21, Zip Code: 61600 Company ID: 26244535 Entered in the Commercial Register \n",
    "maintained by the Regional Court in Brno (Part C, Entry 39922)\n",
    "\n",
    "Planned out of office: \n",
    "''','''\n",
    "From:\tname\n",
    "Sent:\tTuesday, October 17, 2023 8:52 PM\n",
    "To:\tname; name; name; name; name; name; name; name\n",
    "Cc:\tname; name; name; name; name\n",
    "Subject:\tIndustrial Guild Community Call - October 18 \n",
    "\n",
    "Hi All - \n",
    "We’re looking forward to this week’s Industrial Guild Community Call on Wednesday, October \n",
    "18. This week, our agenda includes: \n",
    " \n",
    "SAP Intelligent Enterprise for Manufacturing - name and name\n",
    "Hear from name and name about updated Kyndryl SAP capabilities for our clients. \n",
    "\n",
    "Security Solutions for Manufacturing with name and name\n",
    "Listen as Lew and Josh share details on the most recent Dow security win and discuss security \n",
    "solutions fitting for all manufacturing customers. \n",
    "\n",
    "See you Wednesday. \n",
    "\n",
    "\n",
    "name\n",
    "Director, US Marketing \n",
    "Manufacturing, Communications & Energy \n",
    "516-315-5470\n",
    "name@kyndryl.com\n",
    "''','''\n",
    "From:\tname <name@service-now.com>\n",
    "Sent:\tMonday, November 13, 2023 5:01 PM\n",
    "To:\tname\n",
    "Subject:\tIncident INC0235963 was closed\n",
    "\n",
    "\n",
    " \n",
    "Your incident was closed\n",
    "Hi name,\n",
    "INC0235963 has been marked complete and was closed.\n",
    "You can view your incident to see past activity and updates.\n",
    "View incident\n",
    "About this request\n",
    "Short description: Need to replace the Device \n",
    "Closed by: name \n",
    "Closing notes: Hello name,  \n",
    " \n",
    "The reason why only the UAE stockroom is available is because name is \n",
    "registered under the UAE HR Company Code. It is a system error that occurs \n",
    "when the contractors functional manager is in a different country. Like in \n",
    "name case his functional manager name is from UAE. \n",
    "Unfortunately the company codes for contractors are automatically changed \n",
    "to match the company codes of the hiring manager.  \n",
    " \n",
    "To replace name broken device you need to contact \n",
    "name@Kyndryl.com and ask him for a direct device deployment. \n",
    "Please explain to name that name is a contractor from Pakistan but he has \n",
    "an UAE company code and therefore it is not possible to submit a normal \n",
    "Replace Broken Device Request from Pakistan Stock.  \n",
    " \n",
    "In case of other questions please reach out to me via Teams chat.  \n",
    " \n",
    "Kind regards. \n",
    "Thank you, \n",
    "name\n",
    " \n",
    "Help us improve! Please take a minute and rate your experience by taking this brief, \n",
    "anonymous Survey.\n",
    "\n",
    "\n",
    " \n",
    "Brought to you by CIO. For Kyndryl internal use only.\n",
    "Copyright @ 2023 Kyndryl Inc. All rights reserved\n",
    "\n",
    "\n",
    "Unsubscribe | Notification Preferences\n",
    "\n",
    " \n",
    "Ref:MSG1540905_Vsx8LRB22klEwCxd0aV9\n",
    "''']"
   ]
  },
  {
   "cell_type": "markdown",
   "metadata": {},
   "source": [
    "Test"
   ]
  },
  {
   "cell_type": "code",
   "execution_count": 10,
   "metadata": {},
   "outputs": [],
   "source": [
    "email_templates=[\n",
    "    '''\n",
    "From: name <name@tevera.com>\n",
    "Sent: Friday, September 22, 2023 8:46 AM\n",
    "To: name <name@kandi.com>; name <name@kandi.com>; IT Claims Data Model name <name@tevera.com>; name name name <name@tevera.com>\n",
    "Cc: name<name@kandi.com>; name name<name@kandi.com>\n",
    "Subject: [EXTERNAL] RE: Old GRP's on Load Env\n",
    "I told Suma to go ahead and drop the two GRPS (Green) as the LT database space has reached a critical level. name Manager, Engineering - Data Model | IBU Claims 5260 Western Avenue NW, Chevy Chase, MD 20815 Phone: (300)986-2427\n",
    "ZjQcmQRYFpfptBannerStart\n",
    "This Message Is From an External Sender \n",
    "This message came from outside your organization. \n",
    "  name \n",
    "Manager, Engineering - Data Model | IBU Claims \n",
    "5260 Western Avenue NW, Chevy Chase, MD 20815 \n",
    "Phone: (002)986-247ext.24| Mobile: (700)477-8427\n",
    "''','''\n",
    "From:\tname <name@kyndryl.com>\n",
    "Sent:\tThursday, November 16, 2023 5:20 PM\n",
    "To:\tname <name@kyndryl.com>\n",
    "Subject:\tAWS Technical Community Call Series:  Nov-16 Webinar\n",
    "\n",
    "Follow Up Flag:\tFollow up\n",
    "Flag Status:\tFlagged\n",
    "\n",
    "Dear All\n",
    "\n",
    "Topic: Sovereign Cloud by AWS Speaker\n",
    "\n",
    "Registration Link : https://events.teams.microsoft.com/event/599154c8-06c2-42ec-bf7e-\n",
    "018ab0eae5aa@f260df36-bc43-424c-8f44-c85226657b01\n",
    "\n",
    "Date & Time: 16–Nov-2023, 9AM EST [7:30PM IST] - 1 hour\n",
    "\n",
    "Presenters: Steve Hamilton\n",
    "\n",
    "If any issues registering to the event, pls contact name <name@kyndryl.com>\n",
    "Regards\n",
    "'''\n",
    "]"
   ]
  },
  {
   "cell_type": "code",
   "execution_count": 11,
   "metadata": {},
   "outputs": [],
   "source": [
    "#nlp=spacy.load('en_core_web_sm')\n",
    "nlp=spacy.blank('en')"
   ]
  },
  {
   "cell_type": "markdown",
   "metadata": {},
   "source": [
    "Loading the names of persons from different languages to train the spacy model."
   ]
  },
  {
   "cell_type": "code",
   "execution_count": 12,
   "metadata": {},
   "outputs": [],
   "source": [
    "path = r'C:\\Users\\AdilFaizan\\Desktop\\Badges\\dataSets\\names' # use your path\n",
    "res=os.listdir(path)"
   ]
  },
  {
   "cell_type": "code",
   "execution_count": 13,
   "metadata": {},
   "outputs": [],
   "source": [
    "dataList=[]\n",
    "for i in res:\n",
    "    dataList.append(pd.read_csv(path+\"\\\\\"+i,sep='\\t+',header=None,engine='python'))"
   ]
  },
  {
   "cell_type": "code",
   "execution_count": 14,
   "metadata": {},
   "outputs": [],
   "source": [
    "fullDs=pd.concat(dataList,ignore_index=True,axis=0)"
   ]
  },
  {
   "cell_type": "code",
   "execution_count": 15,
   "metadata": {},
   "outputs": [],
   "source": [
    "fullDs.rename(columns={0:'Name'},inplace=True)"
   ]
  },
  {
   "cell_type": "code",
   "execution_count": 18,
   "metadata": {},
   "outputs": [],
   "source": [
    "emails=[]\n",
    "listNames=fullDs.Name.tolist()\n",
    "listLen=len(listNames)\n",
    "for i in range(500):\n",
    "    template=email_templates[r.randint(0,1)]\n",
    "    spans=[]\n",
    "    stri=''\n",
    "    for index,str in enumerate(template.split('name')):\n",
    "        stri+=str\n",
    "        spans.append((len(stri),len(stri+listNames[index]),'NAME'))\n",
    "        stri+=listNames[index]\n",
    "    emails.append((stri,{'entities':spans}))"
   ]
  },
  {
   "cell_type": "code",
   "execution_count": 19,
   "metadata": {},
   "outputs": [
    {
     "name": "stdout",
     "output_type": "stream",
     "text": [
      "500\n"
     ]
    }
   ],
   "source": [
    "print(len(emails))"
   ]
  },
  {
   "cell_type": "code",
   "execution_count": 12,
   "metadata": {},
   "outputs": [],
   "source": [
    "#lst=fullDs.Name.apply(lambda x: (x, {'entities':(0,len(x),'NAME')})).tolist()"
   ]
  },
  {
   "cell_type": "code",
   "execution_count": 20,
   "metadata": {},
   "outputs": [],
   "source": [
    "\n",
    "for text, annot in emails:\n",
    "    #print(annot['entities'])\n",
    "    doc=nlp(text)\n",
    "    ents=[]\n",
    "    \n",
    "    for start,end,label in annot['entities']:\n",
    "        span=doc.char_span(start, end, label=label,alignment_mode=\"strict\")\n",
    "        if span is None:\n",
    "            pass\n",
    "        else:\n",
    "            ents.append(span)\n",
    "\n",
    "    doc.ents=ents\n",
    "    db.add(doc)"
   ]
  },
  {
   "cell_type": "code",
   "execution_count": 21,
   "metadata": {},
   "outputs": [],
   "source": [
    "db.to_disk('testSpacyEmail.spacy')"
   ]
  },
  {
   "cell_type": "code",
   "execution_count": null,
   "metadata": {},
   "outputs": [
    {
     "name": "stdout",
     "output_type": "stream",
     "text": [
      "⚠ To generate a more effective transformer-based config (GPU-only), install the\n",
      "spacy-transformers package and re-run this command. The config generated now\n",
      "does not use transformers.\n",
      "ℹ Generated config template specific for your use case\n",
      "- Language: en\n",
      "- Pipeline: ner\n",
      "- Optimize for: accuracy\n",
      "- Hardware: CPU\n",
      "- Transformer: None\n",
      "✔ Auto-filled config with all values\n",
      "✔ Saved config\n",
      "config.cfg\n",
      "You can now add your data and train your pipeline:\n",
      "python -m spacy train config.cfg --paths.train ./train.spacy --paths.dev ./dev.spacy\n"
     ]
    }
   ],
   "source": [
    "! python -m spacy init config config.cfg --lang en --pipeline ner --optimize accuracy "
   ]
  },
  {
   "cell_type": "code",
   "execution_count": 22,
   "metadata": {},
   "outputs": [
    {
     "name": "stdout",
     "output_type": "stream",
     "text": [
      "ℹ Saving to output directory: .\n",
      "ℹ Using CPU\n",
      "\u001b[1m\n",
      "=========================== Initializing pipeline ===========================\u001b[0m\n",
      "✔ Initialized pipeline\n",
      "\u001b[1m\n",
      "============================= Training pipeline =============================\u001b[0m\n",
      "ℹ Pipeline: ['tok2vec', 'ner']\n",
      "ℹ Initial learn rate: 0.001\n",
      "E    #       LOSS TOK2VEC  LOSS NER  ENTS_F  ENTS_P  ENTS_R  SCORE \n",
      "---  ------  ------------  --------  ------  ------  ------  ------\n",
      "  0       0          0.00     48.50    0.00    0.00    0.00    0.00\n",
      "  0     200          1.46    971.73   86.61   86.61   86.61    0.87\n",
      "  0     400          0.00      0.00   86.61   86.61   86.61    0.87\n",
      "  0     600          0.00      0.00   86.61   86.61   86.61    0.87\n",
      "  0     800          0.00      0.00   86.61   86.61   86.61    0.87\n",
      "  0    1000          0.00      0.00   86.61   86.61   86.61    0.87\n",
      "  0    1200          0.00      0.00   86.61   86.61   86.61    0.87\n",
      "  0    1400          0.00      0.00   86.61   86.61   86.61    0.87\n",
      "  0    1600          0.00      0.00   86.61   86.61   86.61    0.87\n",
      "  0    1800          0.00      0.00   86.61   86.61   86.61    0.87\n",
      "✔ Saved pipeline to output directory\n",
      "model-last\n"
     ]
    }
   ],
   "source": [
    "! python -m spacy train config.cfg --output ./ --paths.train ./trainSpacyEmail.spacy --paths.dev ./testSpacyEmail.spacy"
   ]
  },
  {
   "cell_type": "code",
   "execution_count": 12,
   "metadata": {},
   "outputs": [],
   "source": [
    "nlp=spacy.load('model-last')"
   ]
  },
  {
   "cell_type": "code",
   "execution_count": 13,
   "metadata": {},
   "outputs": [],
   "source": [
    "doc=nlp('''\n",
    "From: M, Vikas <VikasM@tevera.com>\n",
    "Sent: Friday, September 22, 2023 8:46 AM\n",
    "To: M Mahendra <M.Mahendra1@kandi.com>; R Bellala <R.Bellala@kandi.com>; IT Claims Data Model Team <IBUClaimsModel@tevera.com>; Load Test Claims <LoadTest@tevera.com>\n",
    "Cc: DG-ADAI-Oracle-tevera-DBA<DG-ADAI-Oracle-tevera-DBA@kandi.com>; Vikram Mohit<Vikram.Mohit@kandi.com>\n",
    "Subject: [EXTERNAL] RE: Old GRP's on Load Env\n",
    "I told Suma to go ahead and drop the two GRPS (Green) as the LT database space has reached a critical level. Vikas Mehrunkar Manager, Engineering - Data Model | IBU Claims 5260 Western Avenue NW, Chevy Chase, MD 20815 Phone: (300)986-2427\n",
    "ZjQcmQRYFpfptBannerStart\n",
    "This Message Is From an External Sender \n",
    "This message came from outside your organization. \n",
    "  Vikas M \n",
    "Manager, Engineering - Data Model | IBU Claims \n",
    "5260 Western Avenue NW, Chevy Chase, MD 20815 \n",
    "Phone: (002)986-247ext.24| Mobile: (700)477-8427\n",
    "''')"
   ]
  },
  {
   "cell_type": "code",
   "execution_count": 14,
   "metadata": {},
   "outputs": [
    {
     "data": {
      "text/html": [
       "<span class=\"tex2jax_ignore\"><div class=\"entities\" style=\"line-height: 2.5; direction: ltr\"><br>From: M, \n",
       "<mark class=\"entity\" style=\"background: #ddd; padding: 0.45em 0.6em; margin: 0 0.25em; line-height: 1; border-radius: 0.35em;\">\n",
       "    Vikas\n",
       "    <span style=\"font-size: 0.8em; font-weight: bold; line-height: 1; border-radius: 0.35em; vertical-align: middle; margin-left: 0.5rem\">NAME</span>\n",
       "</mark>\n",
       " &lt;VikasM@tevera.com&gt;<br>Sent: Friday, September 22, 2023 8:46 AM<br>To: M \n",
       "<mark class=\"entity\" style=\"background: #ddd; padding: 0.45em 0.6em; margin: 0 0.25em; line-height: 1; border-radius: 0.35em;\">\n",
       "    Mahendra\n",
       "    <span style=\"font-size: 0.8em; font-weight: bold; line-height: 1; border-radius: 0.35em; vertical-align: middle; margin-left: 0.5rem\">NAME</span>\n",
       "</mark>\n",
       " &lt;M.Mahendra1@kandi.com&gt;; R Bellala &lt;R.Bellala@kandi.com&gt;; IT Claims Data Model Team &lt;IBUClaimsModel@tevera.com&gt;; Load Test Claims &lt;LoadTest@tevera.com&gt;<br>Cc: DG-ADAI-Oracle-tevera-DBA&lt;DG-ADAI-Oracle-tevera-DBA@kandi.com&gt;; \n",
       "<mark class=\"entity\" style=\"background: #ddd; padding: 0.45em 0.6em; margin: 0 0.25em; line-height: 1; border-radius: 0.35em;\">\n",
       "    Vikram\n",
       "    <span style=\"font-size: 0.8em; font-weight: bold; line-height: 1; border-radius: 0.35em; vertical-align: middle; margin-left: 0.5rem\">NAME</span>\n",
       "</mark>\n",
       " Mohit&lt;Vikram.Mohit@kandi.com&gt;<br>Subject: [EXTERNAL] RE: Old GRP's on Load Env<br>I told \n",
       "<mark class=\"entity\" style=\"background: #ddd; padding: 0.45em 0.6em; margin: 0 0.25em; line-height: 1; border-radius: 0.35em;\">\n",
       "    Suma\n",
       "    <span style=\"font-size: 0.8em; font-weight: bold; line-height: 1; border-radius: 0.35em; vertical-align: middle; margin-left: 0.5rem\">NAME</span>\n",
       "</mark>\n",
       " to go ahead and drop the two GRPS (Green) as the LT database space has reached a critical level. Vikas Mehrunkar Manager, Engineering - Data Model | IBU Claims 5260 Western Avenue NW, Chevy Chase, MD 20815 Phone: (300)986-2427<br>ZjQcmQRYFpfptBannerStart<br>This Message Is From an External Sender <br>This message came from outside your organization. <br>  Vikas M <br>Manager, Engineering - Data Model | IBU Claims <br>5260 Western Avenue NW, Chevy Chase, MD 20815 <br>Phone: (002)986-247ext.24| Mobile: (700)477-8427<br></div></span>"
      ],
      "text/plain": [
       "<IPython.core.display.HTML object>"
      ]
     },
     "metadata": {},
     "output_type": "display_data"
    }
   ],
   "source": [
    "spacy.displacy.render(doc,style='ent',jupyter=True)"
   ]
  }
 ],
 "metadata": {
  "kernelspec": {
   "display_name": "base",
   "language": "python",
   "name": "python3"
  },
  "language_info": {
   "codemirror_mode": {
    "name": "ipython",
    "version": 3
   },
   "file_extension": ".py",
   "mimetype": "text/x-python",
   "name": "python",
   "nbconvert_exporter": "python",
   "pygments_lexer": "ipython3",
   "version": "3.9.13"
  },
  "orig_nbformat": 4
 },
 "nbformat": 4,
 "nbformat_minor": 2
}
