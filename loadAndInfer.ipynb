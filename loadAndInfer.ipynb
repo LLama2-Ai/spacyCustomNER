{
 "cells": [
  {
   "cell_type": "code",
   "execution_count": 6,
   "metadata": {},
   "outputs": [],
   "source": [
    "\n",
    "import spacy\n",
    "import re\n",
    "from spacy.language import Language"
   ]
  },
  {
   "cell_type": "markdown",
   "metadata": {},
   "source": [
    "python -m venv .env\n",
    "source .env/bin/activate\n",
    "pip install -U spacy\n",
    "python -m spacy download en_core_web_lg\n",
    "The downloaded language model can be found at :\n",
    "\n",
    "/usr/local/lib/python3.6/dist-packages/en_core_web_lg -->\n",
    "/usr/local/lib/python3.6/dist-packages/spacy/data/en_core_web_lg"
   ]
  },
  {
   "cell_type": "code",
   "execution_count": null,
   "metadata": {},
   "outputs": [],
   "source": [
    "!python -m spacy download en_core_web_lg "
   ]
  },
  {
   "cell_type": "code",
   "execution_count": 93,
   "metadata": {},
   "outputs": [],
   "source": [
    "text='''From: M, Vikas <VikasM@tevera.com>\\n\n",
    "Sent: Friday, September 22, 2023 8:46 AM\\n\n",
    "To: M Mahendra <M.Mahendra1@kandi.com>; R Bellala <R.Bellala@kandi.com>; IT Claims Data Model Team <IBUClaimsModel@tevera.com>; Load Test Claims <LoadTest@tevera.com>\\\n",
    "Cc: DG-ADAI-Oracle-tevera-DBA<DG-ADAI-Oracle-tevera-DBA@kandi.com>; Vikram Mohit<Vikram.Mohit@kandi.com>\\n\n",
    "Subject: [EXTERNAL] RE: Old GRP's on Load Env\\n\n",
    "I told Suma to go ahead and drop the two GRPS (Green) as the LT database space has reached a critical level. Vikas Mehrunkar Manager, Engineering - Data Model |\\\n",
    "IBU Claims 5260 Western Avenue NW, Chevy Chase, MD 20815 Phone: (300)986-2427\\n\n",
    "ZjQcmQRYFpfptBannerStart\\n\n",
    "This Message Is From an External Sender \n",
    "This message came from outside your organization.\\n\n",
    "Vikas M Manager, Engineering - Data Model | IBU Claims \n",
    "5260 Western Avenue NW, Chevy Chase, MD 20815 \\n\n",
    "Phone: (002)986-247ext.24 | Mobile: (700)477-8427'''"
   ]
  },
  {
   "cell_type": "code",
   "execution_count": 79,
   "metadata": {},
   "outputs": [],
   "source": [
    "@Language.component('regex_matcher')\n",
    "def regex_matcher(doc):\n",
    "  expressions={\n",
    "      \"phone\": re.compile(r\"[\\(]*(\\d{3})\\s*[\\)-]\\s*([\\d-]+)(?:\\s*ext[.\\s]*(\\d+))?\\b\"),\n",
    "      \"date\": re.compile(r\"(0[0-9]|1[0-9]|2[0-9]|3[0-1])[/](0[0-9]|1[0-2])[/]([1-2][0-9][0-9][0-9])\"),\n",
    "      \"email\": re.compile(r\"\\S+@\\S+\")                \n",
    "  }\n",
    "  spans=[]\n",
    "  for label, expression in expressions.items():\n",
    "      for match in re.finditer(expression, doc.text):\n",
    "          start, end = match.span()\n",
    "          entity = doc.char_span(start, end, label=label)\n",
    "          if entity:\n",
    "            spans.append(entity)\n",
    "\n",
    "  doc.ents=list(doc.ents)+spacy.util.filter_spans(spans)\n",
    "  return doc"
   ]
  },
  {
   "cell_type": "code",
   "execution_count": null,
   "metadata": {},
   "outputs": [],
   "source": [
    "#nlp = spacy.load('en_core_web_lg', disable = ['ner'])\n",
    "nlp = spacy.load('en_core_web_lg')\n",
    "#nlp = spacy.blank('en')\n",
    "nlp.add_pipe('regex_matcher',before='ner')\n",
    "#nlp.add_pipe('regex_matcher')\n",
    "doc = nlp(text)"
   ]
  },
  {
   "cell_type": "code",
   "execution_count": 94,
   "metadata": {},
   "outputs": [],
   "source": [
    "for ent in doc.ents:\n",
    "    if (ent.label_=='phone') | (ent.label_=='email') | (ent.label_=='DATE'):\n",
    "         text=text.replace(ent.text,'[External]')\n"
   ]
  },
  {
   "cell_type": "code",
   "execution_count": 74,
   "metadata": {},
   "outputs": [],
   "source": [
    "namesSpcy=spacy.load(r'model-best')"
   ]
  },
  {
   "cell_type": "code",
   "execution_count": 96,
   "metadata": {},
   "outputs": [],
   "source": [
    "doc=namesSpcy(text)\n",
    "for ent in doc.ents:\n",
    "    text=text.replace(ent.text,'[External]')"
   ]
  },
  {
   "cell_type": "code",
   "execution_count": 97,
   "metadata": {},
   "outputs": [
    {
     "name": "stdout",
     "output_type": "stream",
     "text": [
      "From: M, Vikas [External]\n",
      "\n",
      "Sent: [External]\n",
      "\n",
      "To: M [External] [External] R Bellala [External] IT Claims Data Model Team [External] Load Test Claims [External] [External] [External] [External]\n",
      "\n",
      "Subject: [EXTERNAL] RE: Old GRP's on Load Env\n",
      "\n",
      "I told [External] to go ahead and drop the two GRPS (Green) as the LT database space has reached a critical level. Vikas Mehrunkar Manager, Engineering - Data Model |IBU Claims 5260 Western Avenue NW, Chevy Chase, MD 20815 Phone: [External]\n",
      "\n",
      "ZjQcmQRYFpfptBannerStart\n",
      "\n",
      "This Message Is From an External Sender \n",
      "This message came from outside your organization.\n",
      "\n",
      "Vikas M Manager, Engineering - Data Model | IBU Claims \n",
      "5260 Western Avenue NW, Chevy Chase, MD 20815 \n",
      "\n",
      "Phone: [External] | Mobile: [External]\n"
     ]
    }
   ],
   "source": [
    "print(text)"
   ]
  }
 ],
 "metadata": {
  "kernelspec": {
   "display_name": "base",
   "language": "python",
   "name": "python3"
  },
  "language_info": {
   "codemirror_mode": {
    "name": "ipython",
    "version": 3
   },
   "file_extension": ".py",
   "mimetype": "text/x-python",
   "name": "python",
   "nbconvert_exporter": "python",
   "pygments_lexer": "ipython3",
   "version": "3.9.13"
  }
 },
 "nbformat": 4,
 "nbformat_minor": 2
}
