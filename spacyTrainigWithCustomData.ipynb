{
 "cells": [
  {
   "cell_type": "code",
   "execution_count": null,
   "metadata": {},
   "outputs": [],
   "source": [
    "! pip install spacy"
   ]
  },
  {
   "cell_type": "code",
   "execution_count": null,
   "metadata": {},
   "outputs": [],
   "source": [
    "! python -m spacy download en_core_web_sm\n"
   ]
  },
  {
   "cell_type": "code",
   "execution_count": 1,
   "metadata": {},
   "outputs": [],
   "source": [
    "import spacy\n",
    "import pandas as pd\n",
    "from spacy.tokens import DocBin\n",
    "import os\n",
    "import random as r"
   ]
  },
  {
   "cell_type": "markdown",
   "metadata": {},
   "source": [
    "Training Templates"
   ]
  },
  {
   "cell_type": "code",
   "execution_count": 2,
   "metadata": {},
   "outputs": [],
   "source": [
    "email_templates_train=['''\n",
    "Hi name, name\n",
    "\n",
    "Please look in to below request and share the information. Thank you !\n",
    "\n",
    "\n",
    "Regards,\n",
    "name, PMP®, PMI-ACP®, ITILv3®, AZ900, AWS Certified Solution Architect-Associate\n",
    "IBM Certified Senior Project Manager\n",
    "Kyndryl Private Cloud IAAS- STaaS Team\n",
    "Email: name@kyndryl.com \n",
    "Phone: +91 9573745674\n",
    "kyndryl\n",
    "''','''\n",
    "From: name <name@kyndryl.com>\n",
    "Date: Tuesday, October 10, 2023 at 8:56 AM\n",
    "To: name <name@kyndryl.com>\n",
    "Cc: name <name@kyndryl.com>, name <name@kyndryl.com>, name <name@kyndryl.com>, name <name@kyndryl.com>\n",
    "Subject: Re: Blue id- MDG information required \n",
    "Hi name, \n",
    "We had connected the BlueID team with the MDG Kynsight team and data .(name and name can provide an update)\n",
    " \n",
    "For a long term direct integration with MDG , please engage with name. \n",
    " \n",
    "Thank you!\n",
    " \n",
    "name \n",
    "CDO Master Data Management\n",
    "Kyndryl\n",
    "name@kyndryl.com\n",
    "845-242-8821\n",
    "''','''\n",
    "From:\tname\n",
    "Sent:\tWednesday, November 8, 2023 3:04 PM\n",
    "To:\tname; name\n",
    "Cc:\tBarbora Fritzová\n",
    "Subject:\tRE: Missing NPS comments in CDH\n",
    "\n",
    "Follow Up Flag:\tFollow up\n",
    "Flag Status:\tFlagged\n",
    "\n",
    "Hello name,\n",
    "\n",
    "Have you please loaded below accounts to CDH? \n",
    "We have found also another one from May-June which isn´t in CDH.\n",
    "\n",
    "Medalia data - GB302D5P G&H Bankensoftware AG Survey  \n",
    "eligible date 23/05/23 RUN 9, Relationship 6\n",
    "\n",
    "Please insert manually in CDH for BAC000108D | G&H Bankensoftware AG-  GB302J6X,\n",
    "asap as we are soon closing the reporting period.\n",
    "\n",
    "Thank you for cooperation! \n",
    "With kind regards / Mit freundlichen grüßen\n",
    "\n",
    "name\n",
    "Germany Delivery Quality Focal Point \n",
    "CIC Czech Republic, Brno\n",
    "Email: name@kyndryl.com\n",
    "Webex: https://kyndryl.webex.com/meet/name\n",
    "www.kyndryl.com\n",
    " \n",
    "\n",
    "Kyndryl Client Center, s.r.o. \n",
    "Sídlo: Brno, Technická 2995/21, PS?: 616 00, I?: 26244535 Zapsaná v obchodním rejst?íku, vedeném Krajským soudem v Brn? \n",
    "(oddíl C, vložka 39922)\n",
    "\n",
    "Kyndryl Client Center, s.r.o. \n",
    "Registered address: Brno, Technicka 2995/21, Zip Code: 61600 Company ID: 26244535 Entered in the Commercial Register \n",
    "maintained by the Regional Court in Brno (Part C, Entry 39922)\n",
    "\n",
    "Planned out of office: \n",
    "''','''\n",
    "From:\tname\n",
    "Sent:\tTuesday, October 17, 2023 8:52 PM\n",
    "To:\tname; name; name; name; name; name; name; name\n",
    "Cc:\tname; name; name; name; name\n",
    "Subject:\tIndustrial Guild Community Call - October 18 \n",
    "\n",
    "Hi All - \n",
    "We’re looking forward to this week’s Industrial Guild Community Call on Wednesday, October \n",
    "18. This week, our agenda includes: \n",
    " \n",
    "SAP Intelligent Enterprise for Manufacturing - name and name\n",
    "Hear from name and name about updated Kyndryl SAP capabilities for our clients. \n",
    "\n",
    "Security Solutions for Manufacturing with name and name\n",
    "Listen as Lew and Josh share details on the most recent Dow security win and discuss security \n",
    "solutions fitting for all manufacturing customers. \n",
    "\n",
    "See you Wednesday. \n",
    "\n",
    "\n",
    "name\n",
    "Director, US Marketing \n",
    "Manufacturing, Communications & Energy \n",
    "516-315-5470\n",
    "name@kyndryl.com\n",
    "''','''\n",
    "From:\tname <name@service-now.com>\n",
    "Sent:\tMonday, November 13, 2023 5:01 PM\n",
    "To:\tname\n",
    "Subject:\tIncident INC0235963 was closed\n",
    "\n",
    "\n",
    " \n",
    "Your incident was closed\n",
    "Hi name,\n",
    "INC0235963 has been marked complete and was closed.\n",
    "You can view your incident to see past activity and updates.\n",
    "View incident\n",
    "About this request\n",
    "Short description: Need to replace the Device \n",
    "Closed by: name \n",
    "Closing notes: Hello name,  \n",
    " \n",
    "The reason why only the UAE stockroom is available is because name is \n",
    "registered under the UAE HR Company Code. It is a system error that occurs \n",
    "when the contractors functional manager is in a different country. Like in \n",
    "name case his functional manager name is from UAE. \n",
    "Unfortunately the company codes for contractors are automatically changed \n",
    "to match the company codes of the hiring manager.  \n",
    " \n",
    "To replace name broken device you need to contact \n",
    "name@Kyndryl.com and ask him for a direct device deployment. \n",
    "Please explain to name that name is a contractor from Pakistan but he has \n",
    "an UAE company code and therefore it is not possible to submit a normal \n",
    "Replace Broken Device Request from Pakistan Stock.  \n",
    " \n",
    "In case of other questions please reach out to me via Teams chat.  \n",
    " \n",
    "Kind regards. \n",
    "Thank you, \n",
    "name\n",
    " \n",
    "Help us improve! Please take a minute and rate your experience by taking this brief, \n",
    "anonymous Survey.\n",
    "\n",
    "\n",
    " \n",
    "Brought to you by CIO. For Kyndryl internal use only.\n",
    "Copyright @ 2023 Kyndryl Inc. All rights reserved\n",
    "\n",
    "\n",
    "Unsubscribe | Notification Preferences\n",
    "\n",
    " \n",
    "Ref:MSG1540905_Vsx8LRB22klEwCxd0aV9\n",
    "''']"
   ]
  },
  {
   "cell_type": "markdown",
   "metadata": {},
   "source": [
    "Testing Templates"
   ]
  },
  {
   "cell_type": "code",
   "execution_count": 3,
   "metadata": {},
   "outputs": [],
   "source": [
    "email_templates_test=[\n",
    "    '''\n",
    "From: name <name@tevera.com>\n",
    "Sent: Friday, September 22, 2023 8:46 AM\n",
    "To: name <name@kandi.com>; name <name@kandi.com>; IT Claims Data Model name <name@tevera.com>; name name name <name@tevera.com>\n",
    "Cc: name<name@kandi.com>; name name<name@kandi.com>\n",
    "Subject: [EXTERNAL] RE: Old GRP's on Load Env\n",
    "I told name to go ahead and drop the two GRPS (Green) as the LT database space has reached a critical level. name Manager, Engineering - Data Model | IBU Claims 5260 Western Avenue NW, Chevy Chase, MD 20815 Phone: (300)986-2427\n",
    "ZjQcmQRYFpfptBannerStart\n",
    "This Message Is From an External Sender \n",
    "This message came from outside your organization. \n",
    "  name \n",
    "Manager, Engineering - Data Model | IBU Claims \n",
    "5260 Western Avenue NW, Chevy Chase, MD 20815 \n",
    "Phone: (002)986-247ext.24| Mobile: (700)477-8427\n",
    "''','''\n",
    "From:\tname <name@kyndryl.com>\n",
    "Sent:\tThursday, November 16, 2023 5:20 PM\n",
    "To:\tname <name@kyndryl.com>\n",
    "Subject:\tAWS Technical Community Call Series:  Nov-16 Webinar\n",
    "\n",
    "Follow Up Flag:\tFollow up\n",
    "Flag Status:\tFlagged\n",
    "\n",
    "Dear All\n",
    "\n",
    "Topic: Sovereign Cloud by AWS Speaker\n",
    "\n",
    "Registration Link : https://events.teams.microsoft.com/event/599154c8-06c2-42ec-bf7e-\n",
    "018ab0eae5aa@f260df36-bc43-424c-8f44-c85226657b01\n",
    "\n",
    "Date & Time: 16–Nov-2023, 9AM EST [7:30PM IST] - 1 hour\n",
    "\n",
    "Presenters: Steve Hamilton\n",
    "\n",
    "If any issues registering to the event, pls contact name <name@kyndryl.com>\n",
    "Regards\n",
    "'''\n",
    "]"
   ]
  },
  {
   "cell_type": "code",
   "execution_count": 4,
   "metadata": {},
   "outputs": [],
   "source": [
    "#nlp=spacy.load('en_core_web_sm')\n",
    "nlp=spacy.blank('en')"
   ]
  },
  {
   "cell_type": "markdown",
   "metadata": {},
   "source": [
    "Loading the names of persons from different languages to train the spacy model."
   ]
  },
  {
   "cell_type": "code",
   "execution_count": 5,
   "metadata": {},
   "outputs": [],
   "source": [
    "def read_data():\n",
    "    path = r'names' # use your path\n",
    "    res=os.listdir(path)\n",
    "    dataList=[]\n",
    "    for i in res:\n",
    "        dataList.append(pd.read_csv(path+\"\\\\\"+i,sep='\\t+',header=None,engine='python'))\n",
    "    fullDs=pd.concat(dataList,ignore_index=True,axis=0)\n",
    "    fullDs.rename(columns={0:'Name'},inplace=True)\n",
    "    return fullDs\n"
   ]
  },
  {
   "cell_type": "code",
   "execution_count": 7,
   "metadata": {},
   "outputs": [],
   "source": [
    "def prepareData(fullDs,email_templates,lowerBound,upperBound,max=0):\n",
    "    emails=[]\n",
    "    listNames=fullDs.Name.tolist()\n",
    "    listLen=len(listNames)\n",
    "    for i in range(listLen if max==0 else max):\n",
    "        template=email_templates[r.randint(lowerBound,upperBound)]\n",
    "        spans=[]\n",
    "        stri=''\n",
    "        for index,str in enumerate(template.split('name')):\n",
    "            stri+=str\n",
    "            spans.append((len(stri),len(stri+listNames[index]),'NAME'))\n",
    "            stri+=listNames[index]\n",
    "        emails.append((stri,{'entities':spans}))\n",
    "    return emails    "
   ]
  },
  {
   "cell_type": "code",
   "execution_count": 8,
   "metadata": {},
   "outputs": [
    {
     "name": "stdout",
     "output_type": "stream",
     "text": [
      "20074 500\n"
     ]
    }
   ],
   "source": [
    "fullDs=read_data()\n",
    "emailsTrain=prepareData(fullDs,email_templates_train,0,4)\n",
    "emailsTest=prepareData(fullDs,email_templates_test,0,1,500)\n",
    "print(len(emailsTrain),len(emailsTest))"
   ]
  },
  {
   "cell_type": "markdown",
   "metadata": {},
   "source": [
    "Need to convert data into spacy readable format for training"
   ]
  },
  {
   "cell_type": "code",
   "execution_count": 12,
   "metadata": {},
   "outputs": [],
   "source": [
    "\n",
    "def saveForSpacy(emails,fileName):\n",
    "    db=DocBin()\n",
    "    for text, annot in emails:\n",
    "        #print(annot['entities'])\n",
    "        doc=nlp(text)\n",
    "        ents=[]\n",
    "        \n",
    "        for start,end,label in annot['entities']:\n",
    "            span=doc.char_span(start, end, label=label,alignment_mode=\"strict\")\n",
    "            if span is None:\n",
    "                pass\n",
    "            else:\n",
    "                ents.append(span)\n",
    "\n",
    "        doc.ents=ents\n",
    "        db.add(doc)\n",
    "    db.to_disk(''+fileName+'.spacy')"
   ]
  },
  {
   "cell_type": "code",
   "execution_count": 13,
   "metadata": {},
   "outputs": [],
   "source": [
    "saveForSpacy(emailsTrain,'train')\n",
    "saveForSpacy(emailsTest,'test')"
   ]
  },
  {
   "cell_type": "code",
   "execution_count": 14,
   "metadata": {},
   "outputs": [
    {
     "name": "stdout",
     "output_type": "stream",
     "text": [
      "⚠ To generate a more effective transformer-based config (GPU-only), install the\n",
      "spacy-transformers package and re-run this command. The config generated now\n",
      "does not use transformers.\n",
      "ℹ Generated config template specific for your use case\n",
      "- Language: en\n",
      "- Pipeline: ner\n",
      "- Optimize for: accuracy\n",
      "- Hardware: CPU\n",
      "- Transformer: None\n",
      "✔ Auto-filled config with all values\n",
      "✔ Saved config\n",
      "config.cfg\n",
      "You can now add your data and train your pipeline:\n",
      "python -m spacy train config.cfg --paths.train ./train.spacy --paths.dev ./dev.spacy\n"
     ]
    }
   ],
   "source": [
    "! python -m spacy init config config.cfg --lang en --pipeline ner --optimize accuracy "
   ]
  },
  {
   "cell_type": "code",
   "execution_count": 15,
   "metadata": {},
   "outputs": [
    {
     "name": "stdout",
     "output_type": "stream",
     "text": [
      "ℹ Saving to output directory: .\n",
      "ℹ Using CPU\n",
      "\u001b[1m\n",
      "=========================== Initializing pipeline ===========================\u001b[0m\n"
     ]
    },
    {
     "name": "stderr",
     "output_type": "stream",
     "text": [
      "Traceback (most recent call last):\n",
      "  File \"c:\\Users\\AdilFaizan\\anaconda3\\lib\\runpy.py\", line 197, in _run_module_as_main\n",
      "    return _run_code(code, main_globals, None,\n",
      "  File \"c:\\Users\\AdilFaizan\\anaconda3\\lib\\runpy.py\", line 87, in _run_code\n",
      "    exec(code, run_globals)\n",
      "  File \"c:\\Users\\AdilFaizan\\anaconda3\\lib\\site-packages\\spacy\\__main__.py\", line 4, in <module>\n",
      "    setup_cli()\n",
      "  File \"c:\\Users\\AdilFaizan\\anaconda3\\lib\\site-packages\\spacy\\cli\\_util.py\", line 92, in setup_cli\n",
      "    command(prog_name=COMMAND)\n",
      "  File \"c:\\Users\\AdilFaizan\\anaconda3\\lib\\site-packages\\click\\core.py\", line 1157, in __call__\n",
      "    return self.main(*args, **kwargs)\n",
      "  File \"c:\\Users\\AdilFaizan\\anaconda3\\lib\\site-packages\\typer\\core.py\", line 778, in main\n",
      "    return _main(\n",
      "  File \"c:\\Users\\AdilFaizan\\anaconda3\\lib\\site-packages\\typer\\core.py\", line 216, in _main\n",
      "    rv = self.invoke(ctx)\n",
      "  File \"c:\\Users\\AdilFaizan\\anaconda3\\lib\\site-packages\\click\\core.py\", line 1688, in invoke\n",
      "    return _process_result(sub_ctx.command.invoke(sub_ctx))\n",
      "  File \"c:\\Users\\AdilFaizan\\anaconda3\\lib\\site-packages\\click\\core.py\", line 1434, in invoke\n",
      "    return ctx.invoke(self.callback, **ctx.params)\n",
      "  File \"c:\\Users\\AdilFaizan\\anaconda3\\lib\\site-packages\\click\\core.py\", line 783, in invoke\n",
      "    return __callback(*args, **kwargs)\n",
      "  File \"c:\\Users\\AdilFaizan\\anaconda3\\lib\\site-packages\\typer\\main.py\", line 683, in wrapper\n",
      "    return callback(**use_params)  # type: ignore\n",
      "  File \"c:\\Users\\AdilFaizan\\anaconda3\\lib\\site-packages\\spacy\\cli\\train.py\", line 54, in train_cli\n",
      "    train(config_path, output_path, use_gpu=use_gpu, overrides=overrides)\n",
      "  File \"c:\\Users\\AdilFaizan\\anaconda3\\lib\\site-packages\\spacy\\cli\\train.py\", line 81, in train\n",
      "    nlp = init_nlp(config, use_gpu=use_gpu)\n",
      "  File \"c:\\Users\\AdilFaizan\\anaconda3\\lib\\site-packages\\spacy\\training\\initialize.py\", line 95, in init_nlp\n",
      "    nlp.initialize(lambda: train_corpus(nlp), sgd=optimizer)\n",
      "  File \"c:\\Users\\AdilFaizan\\anaconda3\\lib\\site-packages\\spacy\\language.py\", line 1342, in initialize\n",
      "    proc.initialize(get_examples, nlp=self, **p_settings)\n",
      "  File \"c:\\Users\\AdilFaizan\\anaconda3\\lib\\site-packages\\spacy\\pipeline\\tok2vec.py\", line 213, in initialize\n",
      "    validate_get_examples(get_examples, \"Tok2Vec.initialize\")\n",
      "  File \"spacy\\training\\example.pyx\", line 74, in spacy.training.example.validate_get_examples\n",
      "  File \"spacy\\training\\example.pyx\", line 53, in spacy.training.example.validate_examples\n",
      "  File \"c:\\Users\\AdilFaizan\\anaconda3\\lib\\site-packages\\spacy\\training\\corpus.py\", line 164, in __call__\n",
      "    for real_eg in examples:\n",
      "  File \"c:\\Users\\AdilFaizan\\anaconda3\\lib\\site-packages\\spacy\\training\\corpus.py\", line 186, in make_examples\n",
      "    for reference in reference_docs:\n",
      "  File \"c:\\Users\\AdilFaizan\\anaconda3\\lib\\site-packages\\spacy\\training\\corpus.py\", line 219, in read_docbin\n",
      "    doc_bin = DocBin().from_disk(loc)\n",
      "  File \"c:\\Users\\AdilFaizan\\anaconda3\\lib\\site-packages\\spacy\\tokens\\_serialize.py\", line 275, in from_disk\n",
      "    with path.open(\"rb\") as file_:\n",
      "  File \"c:\\Users\\AdilFaizan\\anaconda3\\lib\\pathlib.py\", line 1252, in open\n",
      "    return io.open(self, mode, buffering, encoding, errors, newline,\n",
      "  File \"c:\\Users\\AdilFaizan\\anaconda3\\lib\\pathlib.py\", line 1120, in _opener\n",
      "    return self._accessor.open(self, flags, mode)\n",
      "FileNotFoundError: [Errno 2] No such file or directory: 'trainSpacyEmail.spacy'\n"
     ]
    }
   ],
   "source": [
    "! python -m spacy train config.cfg --output ./ --paths.train ./train.spacy --paths.dev ./test.spacy"
   ]
  },
  {
   "cell_type": "code",
   "execution_count": null,
   "metadata": {},
   "outputs": [],
   "source": [
    "nlp=spacy.load('model-last')"
   ]
  },
  {
   "cell_type": "code",
   "execution_count": null,
   "metadata": {},
   "outputs": [],
   "source": [
    "doc=nlp('''\n",
    "From: M, Vikas <VikasM@tevera.com>\n",
    "Sent: Friday, September 22, 2023 8:46 AM\n",
    "To: M Mahendra <M.Mahendra1@kandi.com>; R Bellala <R.Bellala@kandi.com>; IT Claims Data Model Team <IBUClaimsModel@tevera.com>; Load Test Claims <LoadTest@tevera.com>\n",
    "Cc: DG-ADAI-Oracle-tevera-DBA<DG-ADAI-Oracle-tevera-DBA@kandi.com>; Vikram Mohit<Vikram.Mohit@kandi.com>\n",
    "Subject: [EXTERNAL] RE: Old GRP's on Load Env\n",
    "I told Suma to go ahead and drop the two GRPS (Green) as the LT database space has reached a critical level. Vikas Mehrunkar Manager, Engineering - Data Model | IBU Claims 5260 Western Avenue NW, Chevy Chase, MD 20815 Phone: (300)986-2427\n",
    "ZjQcmQRYFpfptBannerStart\n",
    "This Message Is From an External Sender \n",
    "This message came from outside your organization. \n",
    "  Vikas M \n",
    "Manager, Engineering - Data Model | IBU Claims \n",
    "5260 Western Avenue NW, Chevy Chase, MD 20815 \n",
    "Phone: (002)986-247ext.24| Mobile: (700)477-8427\n",
    "''')"
   ]
  },
  {
   "cell_type": "code",
   "execution_count": null,
   "metadata": {},
   "outputs": [],
   "source": [
    "spacy.displacy.render(doc,style='ent',jupyter=True)"
   ]
  }
 ],
 "metadata": {
  "kernelspec": {
   "display_name": "base",
   "language": "python",
   "name": "python3"
  },
  "language_info": {
   "codemirror_mode": {
    "name": "ipython",
    "version": 3
   },
   "file_extension": ".py",
   "mimetype": "text/x-python",
   "name": "python",
   "nbconvert_exporter": "python",
   "pygments_lexer": "ipython3",
   "version": "3.9.13"
  },
  "orig_nbformat": 4
 },
 "nbformat": 4,
 "nbformat_minor": 2
}
